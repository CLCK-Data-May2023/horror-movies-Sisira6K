{
 "cells": [
  {
   "cell_type": "code",
   "execution_count": 2,
   "metadata": {},
   "outputs": [
    {
     "name": "stdout",
     "output_type": "stream",
     "text": [
      "      id                                       name    genre    year  \\\n",
      "0      1                                     Avatar   action  2009.0   \n",
      "1      2                             Jurassic World   action  2015.0   \n",
      "2      3                               The Avengers   action  2012.0   \n",
      "3      4                            The Dark Knight   action  2008.0   \n",
      "4      5  Star Wars: Episode I - The Phantom Menace   action  1999.0   \n",
      "..   ...                                        ...      ...     ...   \n",
      "225  226                                The Shining   horror  1985.0   \n",
      "226  227              The Devil and Daniel Johnston     None  2005.0   \n",
      "227  228                       Ali Wong: Baby Cobra           2016.0   \n",
      "228  229                               The Big Sick  romance  2017.0   \n",
      "229  230                                   Deadpool   action  2016.0   \n",
      "\n",
      "     imdb_rating  \n",
      "0            7.9  \n",
      "1            7.3  \n",
      "2            8.1  \n",
      "3            9.0  \n",
      "4            6.6  \n",
      "..           ...  \n",
      "225          8.4  \n",
      "226          8.0  \n",
      "227          NaN  \n",
      "228          NaN  \n",
      "229          NaN  \n",
      "\n",
      "[230 rows x 5 columns]\n"
     ]
    }
   ],
   "source": [
    "#Run imports\n",
    "import sqlite3\n",
    "import pandas as pd\n",
    "\n",
    "#Connect to the Database\n",
    "conn = sqlite3.connect(\"db/movies.db\")\n",
    "\n",
    "# Read from DataBase table into a Dataframe\n",
    "query = 'SELECT * FROM movies'\n",
    "df = pd.read_sql(query, conn)\n",
    "\n",
    "# Display the dataframe\n",
    "print(df)\n",
    "conn.close()"
   ]
  },
  {
   "cell_type": "code",
   "execution_count": 5,
   "metadata": {},
   "outputs": [
    {
     "name": "stdout",
     "output_type": "stream",
     "text": [
      "   Movie_ID            Movie_Title  Rating\n",
      "0       226            The Shining     8.4\n",
      "1       100               Gremlins     7.2\n",
      "2       116  The Amityville Horror     6.2\n"
     ]
    }
   ],
   "source": [
    "#Run imports\n",
    "import sqlite3\n",
    "import pandas as pd\n",
    "\n",
    "#Connect to the Database\n",
    "conn = sqlite3.connect(\"db/movies.db\")\n",
    "\n",
    "#change column names in DataBase table\n",
    "query = '''SELECT id as Movie_ID,name as Movie_Title, imdb_rating as Rating\n",
    "FROM movies\n",
    "WHERE genre = 'horror' AND year <=1985 \n",
    "ORDER BY Rating DESC\n",
    "LIMIT 3\n",
    "\n",
    "'''\n",
    "\n",
    "\n",
    "df = pd.read_sql(query, conn)\n",
    "\n",
    "# Display the dataframe\n",
    "print(df)\n",
    "conn.close()"
   ]
  }
 ],
 "metadata": {
  "kernelspec": {
   "display_name": "horror_sql",
   "language": "python",
   "name": "python3"
  },
  "language_info": {
   "codemirror_mode": {
    "name": "ipython",
    "version": 3
   },
   "file_extension": ".py",
   "mimetype": "text/x-python",
   "name": "python",
   "nbconvert_exporter": "python",
   "pygments_lexer": "ipython3",
   "version": "3.11.6"
  },
  "orig_nbformat": 4
 },
 "nbformat": 4,
 "nbformat_minor": 2
}
